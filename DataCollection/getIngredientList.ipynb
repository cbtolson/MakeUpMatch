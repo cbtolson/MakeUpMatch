{
 "cells": [
  {
   "cell_type": "code",
   "execution_count": 1,
   "metadata": {
    "collapsed": true
   },
   "outputs": [],
   "source": [
    "import pandas as pd\n",
    "import mysql.connector"
   ]
  },
  {
   "cell_type": "code",
   "execution_count": 4,
   "metadata": {
    "collapsed": false
   },
   "outputs": [],
   "source": [
    "#read in CosIng ingredients\n",
    "cosing = pd.read_csv('../../Data/COSING_Ingredients-Fragrance Inventory_v2.csv', header=3, error_bad_lines=False, warn_bad_lines=False)\n",
    "\n",
    "#get CosIng names\n",
    "ingredient_name = cosing['INCI name'].fillna('NA').values.tolist()\n",
    "alt_name = cosing['Chem/IUPAC Name / Description'].fillna('NA').values.tolist()\n",
    "function = cosing['Function'].fillna('NA').values.tolist()\n"
   ]
  },
  {
   "cell_type": "code",
   "execution_count": 5,
   "metadata": {
    "collapsed": true
   },
   "outputs": [],
   "source": [
    "#connect to mysql server\n",
    "cnx = mysql.connector.connect(host='152.19.68.141', user='ctolson', password='ilaYOU5!', database='sephora_cosmetics')\n",
    "cursor = cnx.cursor()\n",
    "\n",
    "#mysql insert functions\n",
    "add_ingredient = (\"INSERT INTO Ingredients \"\n",
    "                    \"(ingredient_name, alt_names, function) \"\n",
    "                    \"VALUES (%s, %s, %s)\")"
   ]
  },
  {
   "cell_type": "code",
   "execution_count": 6,
   "metadata": {
    "collapsed": false
   },
   "outputs": [],
   "source": [
    "#add ingredients\n",
    "for i in range(0, len(ingredient_name)):\n",
    "    data_ingredient = (ingredient_name[i], alt_name[i], function[i])\n",
    "    cursor.execute(add_ingredient, data_ingredient)\n",
    "    cnx.commit()"
   ]
  },
  {
   "cell_type": "code",
   "execution_count": 7,
   "metadata": {
    "collapsed": true
   },
   "outputs": [],
   "source": [
    "#close mysql server\n",
    "cnx.close()\n"
   ]
  },
  {
   "cell_type": "code",
   "execution_count": null,
   "metadata": {
    "collapsed": true
   },
   "outputs": [],
   "source": []
  }
 ],
 "metadata": {
  "kernelspec": {
   "display_name": "Python 3",
   "language": "python",
   "name": "python3"
  },
  "language_info": {
   "codemirror_mode": {
    "name": "ipython",
    "version": 3
   },
   "file_extension": ".py",
   "mimetype": "text/x-python",
   "name": "python",
   "nbconvert_exporter": "python",
   "pygments_lexer": "ipython3",
   "version": "3.5.1"
  }
 },
 "nbformat": 4,
 "nbformat_minor": 1
}
