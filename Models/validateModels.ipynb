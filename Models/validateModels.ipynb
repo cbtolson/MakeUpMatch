{
 "cells": [
  {
   "cell_type": "code",
   "execution_count": 1,
   "metadata": {
    "collapsed": false
   },
   "outputs": [],
   "source": [
    "%matplotlib inline \n",
    "import mysql.connector\n",
    "import pandas as pd\n",
    "from TrainTest import TrainTest\n",
    "from textblob import TextBlob\n",
    "import numpy as np\n",
    "import csv\n",
    "import collections\n",
    "import matplotlib\n",
    "import matplotlib.pyplot as plt\n",
    "import matplotlib as mpl\n",
    "from sklearn.manifold import MDS\n",
    "matplotlib.style.use('ggplot')\n",
    "import random\n",
    "pd.options.mode.chained_assignment = None\n"
   ]
  },
  {
   "cell_type": "code",
   "execution_count": 2,
   "metadata": {
    "collapsed": false
   },
   "outputs": [],
   "source": [
    "#connect to mysql\n",
    "cnx = mysql.connector.connect(host='152.19.68.141', user='ctolson', password='ilaYOU5!', database='sephora_cosmetics')\n",
    "cursor = cnx.cursor()\n",
    "\n",
    "#query reviews by product1\n",
    "query = (\"SELECT R.product_id, review_id, review, reviewer, type \"\n",
    "         \"FROM Reviews as R \"\n",
    "         \"JOIN Product as P \"\n",
    "         \"ON P.product_id = R.product_id \")\n",
    "cursor.execute(query)\n",
    "\n",
    "\n",
    "#close mysql server\n",
    "cnx.close()"
   ]
  },
  {
   "cell_type": "code",
   "execution_count": 3,
   "metadata": {
    "collapsed": false
   },
   "outputs": [],
   "source": [
    "#clean reviews data\n",
    "product_id = []\n",
    "review_id = []\n",
    "reviews = []\n",
    "reviewers = []\n",
    "types = []\n",
    "for (x, y, z, w, v) in cursor:\n",
    "    product_id.append(int(x))\n",
    "    review_id.append(int(y))\n",
    "    reviews.append(z)\n",
    "    reviewers.append(w)\n",
    "    types.append(v)\n",
    "\n",
    "#convert to data frame\n",
    "data = list(zip(product_id, review_id, reviews, reviewers, types))\n",
    "review_data = pd.DataFrame(data=data, index=range(0,len(reviews)), columns=['product_id', 'review_id', 'reviews', 'reviewers', 'types'])\n"
   ]
  },
  {
   "cell_type": "code",
   "execution_count": 4,
   "metadata": {
    "collapsed": true
   },
   "outputs": [],
   "source": [
    "#get train/test set review ids\n",
    "training = TrainTest()\n",
    "ttset = training.getSet()\n",
    "train= ttset['train']\n",
    "test= ttset['test']\n",
    "\n",
    "#create train/test set\n",
    "review_train = review_data.loc[review_data['review_id'].isin(train)]\n",
    "review_test = review_data.loc[review_data['review_id'].isin(test)]\n",
    "\n",
    "#convert series to lists\n",
    "reviews = review_test['reviews'].tolist()\n"
   ]
  },
  {
   "cell_type": "code",
   "execution_count": 5,
   "metadata": {
    "collapsed": false
   },
   "outputs": [],
   "source": [
    "#get sentiment polarity for reviews\n",
    "sentiment = [TextBlob(x).sentiment.polarity for x in reviews]\n",
    "\n",
    "#find binary sentiment\n",
    "sentiment = [int(x>0.25) for x in sentiment]\n",
    "sentiment = pd.Series(sentiment, index=review_test.index)\n",
    "review_test['sentiment'] = sentiment\n"
   ]
  },
  {
   "cell_type": "code",
   "execution_count": 6,
   "metadata": {
    "collapsed": false
   },
   "outputs": [],
   "source": [
    "#group by reviewers and product__id\n",
    "reviewers_testsent = review_test.groupby('reviewers')['sentiment'].apply(list).tolist()\n",
    "product_testsent = review_test.groupby('reviewers')['product_id'].apply(list).tolist()\n",
    "types_testsent = review_test.groupby('reviewers')['types'].apply(list).tolist()\n",
    "product_id = review_train.groupby('product_id')['product_id'].first().tolist()\n",
    "\n",
    "#convert to list\n",
    "reviewers_testsent = [list(x) for x in reviewers_testsent]\n",
    "product_testsent = [list(x) for x in product_testsent]\n",
    "product_id = [x for x in product_id]\n",
    "\n",
    "#read in distance\n",
    "review_d = pd.read_csv('../../Data/dist_reviews_lsi.csv', header=0)\n",
    "review_dist = review_d.drop('product_id', 1)\n",
    "review_dist= review_dist.as_matrix()\n",
    "reviewer_d = pd.read_csv('../../Data/dist_reviews_item.csv', header=0)\n",
    "reviewer_dist = reviewer_d.drop('product_id', 1)\n",
    "reviewer_dist = reviewer_dist.as_matrix()"
   ]
  },
  {
   "cell_type": "code",
   "execution_count": 36,
   "metadata": {
    "collapsed": false
   },
   "outputs": [],
   "source": [
    "#write distance to file\n",
    "fl = open('../../Data/dist_reviews.csv', 'w')\n",
    "writer = csv.writer(fl)\n",
    "writer.writerow(['product_id']+product_id)\n",
    "\n",
    "#initialize variables\n",
    "a=0.5\n",
    "b=1\n",
    "d = [0 for x in review_dist]\n",
    "dist = collections.defaultdict(lambda: collections.defaultdict(int))\n",
    "\n",
    "#combine distances \n",
    "for i in range(0,len(d)):\n",
    "    for j in range(0,len(d)):\n",
    "        #get distances\n",
    "        d[j] = (a*float(review_dist[i,j]) + b*float(reviewer_dist[i,j]))/1.5  \n",
    "        dist[str(product_id[i])][str(product_id[j])] = d[j]\n",
    "     \n",
    "    #save combined distances\n",
    "    writer.writerow([product_id[i]]+d)\n",
    "\n",
    "#close file\n",
    "fl.close()  \n"
   ]
  },
  {
   "cell_type": "code",
   "execution_count": 32,
   "metadata": {
    "collapsed": false
   },
   "outputs": [],
   "source": [
    "#initialize options\n",
    "liked1 = []\n",
    "liked2 = []\n",
    "liked3 = []\n",
    "liked4 = []\n",
    "\n",
    "#compare sentiment difference vs. predicted distance\n",
    "for i in range(0,len(reviewers_testsent)):\n",
    "    for j in range(0,len(reviewers_testsent[i])):\n",
    "        for k in range(0,len(reviewers_testsent[i])):\n",
    "            #compare actual and predicted\n",
    "            predicted = dist[str(product_testsent[i][j])][str(product_testsent[i][k])]\n",
    "            actual = int(reviewers_testsent[i][j]>0) + int(reviewers_testsent[i][k]>0)\n",
    "            actual_type = int(types_testsent[i][j] == types_testsent[i][k])\n",
    "                \n",
    "            #liked v. disagree v. dislike\n",
    "            if actual>1 and actual_type==1:\n",
    "                liked1.append(predicted)\n",
    "            elif actual_type==1: \n",
    "                liked2.append(predicted)\n",
    "                    \n",
    "            #same v. different\n",
    "            if actual_type==1:\n",
    "                liked3.append(predicted)\n",
    "            else:\n",
    "                liked4.append(predicted)\n",
    "   "
   ]
  },
  {
   "cell_type": "code",
   "execution_count": 33,
   "metadata": {
    "collapsed": false
   },
   "outputs": [
    {
     "data": {
      "image/png": "[encoded data removed]",
      "text/plain": [
       "<matplotlib.figure.Figure at 0x117f4e668>"
      ]
     },
     "metadata": {},
     "output_type": "display_data"
    },
    {
     "name": "stdout",
     "output_type": "stream",
     "text": [
      "[0.74588673554785834, 0.55634399646983257]\n"
     ]
    }
   ],
   "source": [
    "#means and standard deviation\n",
    "avg = [np.nanmean(liked1),np.nanmean(liked2)]\n",
    "sd = [np.nanstd(liked1),np.nanstd(liked2)]\n",
    "\n",
    "#plot figure\n",
    "fig = plt.figure()\n",
    "ax = fig.add_subplot(111)\n",
    "\n",
    "#figure specifics\n",
    "ind = [1,2]              \n",
    "width = 0.35  \n",
    "\n",
    "#plot barplot\n",
    "ax.bar(ind, avg, width, color='blue',yerr=sd)\n",
    "\n",
    "#plot specifics\n",
    "plt.ylabel('Distance', fontsize=15, labelpad=20)\n",
    "plt.title('Validation', fontsize=20)\n",
    "ax.set_xticks([(width/2)+1,(width/2)+2])\n",
    "ax.set_xticklabels(('Agree Liked', 'Disagreed or Disliked'),rotation=40)\n",
    "                    \n",
    "#show plot\n",
    "plt.show()\n",
    "\n",
    "print(avg)\n",
    "\n"
   ]
  },
  {
   "cell_type": "code",
   "execution_count": 34,
   "metadata": {
    "collapsed": false
   },
   "outputs": [
    {
     "data": {
      "image/png": "[encoded data removed]",
      "text/plain": [
       "<matplotlib.figure.Figure at 0x118c7d160>"
      ]
     },
     "metadata": {},
     "output_type": "display_data"
    },
    {
     "name": "stdout",
     "output_type": "stream",
     "text": [
      "[0.62774604880960283, 0.019318496625620199]\n"
     ]
    }
   ],
   "source": [
    "#means and standard deviation\n",
    "avg = [np.nanmean(liked3),np.nanmean(liked4)]\n",
    "sd = [np.nanstd(liked3),np.nanstd(liked4)]\n",
    "\n",
    "#plot figure\n",
    "fig = plt.figure()\n",
    "ax = fig.add_subplot(111)\n",
    "\n",
    "#figure specifics\n",
    "ind = [1,2]              \n",
    "width = 0.35  \n",
    "\n",
    "#plot barplot\n",
    "ax.bar(ind, avg, width, color='blue',yerr=sd)\n",
    "\n",
    "#plot specifics\n",
    "plt.ylabel('Distance', fontsize=15, labelpad=20)\n",
    "plt.title('Validation', fontsize=20)\n",
    "ax.set_xticks([(width/2)+1,(width/2)+2])\n",
    "ax.set_xticklabels(('Same','Different'),rotation=40)\n",
    "                    \n",
    "#show plot\n",
    "plt.show()\n",
    "\n",
    "print(avg)"
   ]
  },
  {
   "cell_type": "code",
   "execution_count": null,
   "metadata": {
    "collapsed": true
   },
   "outputs": [],
   "source": []
  }
 ],
 "metadata": {
  "kernelspec": {
   "display_name": "Python 3",
   "language": "python",
   "name": "python3"
  },
  "language_info": {
   "codemirror_mode": {
    "name": "ipython",
    "version": 3
   },
   "file_extension": ".py",
   "mimetype": "text/x-python",
   "name": "python",
   "nbconvert_exporter": "python",
   "pygments_lexer": "ipython3",
   "version": "3.5.1"
  }
 },
 "nbformat": 4,
 "nbformat_minor": 1
}
